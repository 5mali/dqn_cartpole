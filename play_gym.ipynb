{
 "cells": [
  {
   "cell_type": "code",
   "execution_count": 1,
   "metadata": {},
   "outputs": [],
   "source": [
    "# https://github.com/higgsfield/RL-Adventure/"
   ]
  },
  {
   "cell_type": "code",
   "execution_count": 2,
   "metadata": {},
   "outputs": [],
   "source": [
    "%matplotlib inline"
   ]
  },
  {
   "cell_type": "code",
   "execution_count": 3,
   "metadata": {},
   "outputs": [],
   "source": [
    "import yaml\n",
    "import datetime\n",
    "\n",
    "from IPython.display import clear_output\n",
    "import matplotlib.pyplot as plt\n",
    "import seaborn as sns\n",
    "sns.set()"
   ]
  },
  {
   "cell_type": "code",
   "execution_count": 4,
   "metadata": {},
   "outputs": [],
   "source": [
    "import math\n",
    "import os \n",
    "import random \n",
    "import numpy as np \n",
    "\n",
    "import torch\n",
    "import torch.nn as nn\n",
    "import torch.optim as optim\n",
    "import torch.autograd as autograd \n",
    "import torch.nn.functional as F"
   ]
  },
  {
   "cell_type": "code",
   "execution_count": 5,
   "metadata": {},
   "outputs": [],
   "source": [
    "seed_value = 324267*2# sys.argv[1]\n",
    "\n",
    "os.environ['PYTHONHASHSEED']=str(seed_value) \n",
    "random.seed(seed_value) \n",
    "np.random.seed(seed_value) \n",
    "torch.manual_seed(seed_value)\n",
    "torch.backends.cudnn.deterministic = True\n",
    "torch.backends.cudnn.benchmark = False"
   ]
  },
  {
   "cell_type": "code",
   "execution_count": 6,
   "metadata": {},
   "outputs": [],
   "source": [
    "import gym\n"
   ]
  },
  {
   "cell_type": "code",
   "execution_count": 7,
   "metadata": {},
   "outputs": [],
   "source": [
    "class DQN(nn.Module): #base model\n",
    "    def __init__(self, num_inputs, num_actions, HIDDEN_LAYER_WIDTH):\n",
    "        super(DQN, self).__init__()\n",
    "        \n",
    "        self.action_dim = num_actions\n",
    "        \n",
    "        self.layers = nn.Sequential(\n",
    "            nn.Linear(num_inputs, HIDDEN_LAYER_WIDTH),\n",
    "            nn.ReLU(),\n",
    "            nn.Linear(HIDDEN_LAYER_WIDTH, HIDDEN_LAYER_WIDTH),\n",
    "            nn.ReLU(),\n",
    "            nn.Linear(HIDDEN_LAYER_WIDTH, num_actions)\n",
    "        )\n",
    "\n",
    "    def forward(self, x):\n",
    "        return self.layers(x)\n",
    "    \n",
    "def get_action(policy_net, device, state, epsilon):\n",
    "    with torch.no_grad():\n",
    "        if random.random() > epsilon:\n",
    "            state   = torch.FloatTensor(state).unsqueeze(dim=0).to(device)\n",
    "            q_values = policy_net(state)\n",
    "            action  = q_values.max(dim=1)[1].item()\n",
    "        else:\n",
    "            action = random.randrange(self.action_dim)\n",
    "    return action"
   ]
  },
  {
   "cell_type": "code",
   "execution_count": 8,
   "metadata": {},
   "outputs": [],
   "source": [
    "class DuelingDQN(nn.Module):\n",
    "    def __init__(self, num_inputs, num_actions, HIDDEN_LAYER_WIDTH):\n",
    "        super(DuelingDQN, self).__init__()\n",
    "        self.action_dim = num_actions\n",
    "        \n",
    "        self.feature = nn.Sequential(\n",
    "            nn.Linear(num_inputs, 128),\n",
    "            nn.ReLU()\n",
    "        )\n",
    "        \n",
    "        self.advantage = nn.Sequential(\n",
    "            nn.Linear(128, 128),\n",
    "            nn.ReLU(),\n",
    "            nn.Linear(128, num_actions)\n",
    "        )\n",
    "        \n",
    "        self.value = nn.Sequential(\n",
    "            nn.Linear(128, 128),\n",
    "            nn.ReLU(),\n",
    "            nn.Linear(128, 1)\n",
    "        )\n",
    "        \n",
    "    def forward(self, x):\n",
    "        x = self.feature(x)\n",
    "        advantage = self.advantage(x)\n",
    "        value     = self.value(x)\n",
    "        return value + advantage  - advantage.mean()\n",
    "    \n",
    "#     def act(self, state, epsilon):\n",
    "#         with torch.no_grad():\n",
    "#             if random.random() > epsilon:\n",
    "#                 state   = torch.FloatTensor(state).unsqueeze(dim=0).to(self.device)\n",
    "#                 q_values = self.forward(state)\n",
    "#                 action  = q_values.max(dim=1)[1].item()\n",
    "#             else:\n",
    "#                 action = random.randrange(self.action_dim)\n",
    "#         return action"
   ]
  },
  {
   "cell_type": "code",
   "execution_count": 9,
   "metadata": {},
   "outputs": [],
   "source": [
    "def greedy_play(log_name, EPISODES = 5, render = False):\n",
    "    experiment = log_name.split('_')[0]\n",
    "    \n",
    "    # CartPole-v0 Environment\n",
    "    env_id = \"CartPole-v0\"\n",
    "    env = gym.make(env_id)\n",
    "    # Record video\n",
    "#     env = gym.wrappers.Monitor(env, \"recording/\"+log_name+\"/\", video_callable=lambda episode_id: True,force=True)\n",
    "\n",
    "    # FROM CONFIG FILE\n",
    "    config_path =  './configs/' + experiment + '.yaml' # sys.argv[2]\n",
    "    config = yaml.safe_load(open(config_path,'r'))\n",
    "\n",
    "    USE_GPU = config['USE_GPU']\n",
    "    # Use CUDA\n",
    "    USE_CUDA = torch.cuda.is_available() and USE_GPU\n",
    "\n",
    "    if USE_CUDA:\n",
    "        torch.cuda.manual_seed(seed_value)\n",
    "        device = torch.device('cuda')\n",
    "    else:\n",
    "        device = torch.device('cpu')\n",
    "\n",
    "    # MODEL\n",
    "    if (config['MODEL_NAME']=='D1QN' or config['MODEL_NAME']=='DQN' or config['MODEL_NAME']=='D2QN'):\n",
    "        # only one NN for estimating Q-values\n",
    "        policy_net = DQN(env.observation_space.shape[0], \n",
    "                     env.action_space.n,\n",
    "                     config['HIDDEN_LAYER_WIDTH'])\n",
    "        policy_net = policy_net.to(device)\n",
    "\n",
    "\n",
    "    elif (config['MODEL_NAME']=='DuDQN' or config['MODEL_NAME']=='DuD2QN'):\n",
    "        # one policy_net and one target_net\n",
    "        policy_net = DuelingDQN(env.observation_space.shape[0], \n",
    "                     env.action_space.n,\n",
    "                     config['HIDDEN_LAYER_WIDTH'])\n",
    "        \n",
    "        policy_net = policy_net.to(device)\n",
    "\n",
    "    else: #default policy_net is D1QN\n",
    "        # only one NN for estimating Q-values\n",
    "        policy_net = DQN(env.observation_space.shape[0], \n",
    "                     env.action_space.n,\n",
    "                     config['HIDDEN_LAYER_WIDTH'])\n",
    "        \n",
    "        policy_net = policy_net.to(device)\n",
    "\n",
    "    # # Load Learned Model Parameters\n",
    "    MODEL_FILE = './models/'+ log_name + '.pth'\n",
    "    policy_net.load_state_dict(torch.load(MODEL_FILE));\n",
    "    policy_net.eval();\n",
    "\n",
    "\n",
    "    # ROLLOUT\n",
    "    all_rewards = []\n",
    "\n",
    "    for ep in range(EPISODES):\n",
    "        episode_reward = 0\n",
    "        done = False\n",
    "        state = env.reset()\n",
    "#         #random initial location\n",
    "#         env.reset()\n",
    "#         env.state[0] = np.random.uniform(low=-2.0,high=2.0)\n",
    "#         state = env.state\n",
    "        while not done:\n",
    "            if render:\n",
    "                env.render()\n",
    "            action = get_action(policy_net, device, state, epsilon=0.0)\n",
    "            next_state, reward, done, _ = env.step(action)\n",
    "            state = next_state\n",
    "            episode_reward += reward\n",
    "#         if render: \n",
    "#             print(\"EP: \", ep, \"\\tRWD: \", episode_reward)\n",
    "        all_rewards.append(episode_reward)\n",
    "    \n",
    "    env.close()\n",
    "    return [experiment, all_rewards]"
   ]
  },
  {
   "cell_type": "code",
   "execution_count": 10,
   "metadata": {},
   "outputs": [],
   "source": [
    "exp_list = ['D1QN_D1QN_Naive_1000_freq_100_324267_04171400',\n",
    "'D1QN-PER_D1QN_NaivePER_1000_freq_100_324267_04164957',\n",
    "'DQN_DQN_Naive_1000_freq_100_324267_04171233',\n",
    "'DQN-PER_DQN_NaivePER_1000_freq_100_324267_04164826',\n",
    "'DQN-PER-original_DQN_NaivePER_100000_freq_1000_324267_04163756',\n",
    "\n",
    "'D2QN_D2QN_Naive_1000_freq_100_324267_04170846',\n",
    "'D2QN-PER_D2QN_NaivePER_1000_freq_100_324267_04165444',\n",
    "\n",
    "'DuDQN_DuDQN_Naive_1000_freq_100_324267_04170649',\n",
    "'DuDQN-PER_DuDQN_NaivePER_1000_freq_100_324267_04165300',\n",
    "\n",
    "'DuD2QN_DuD2QN_Naive_1000_freq_100_324267_04170223',\n",
    "'DuD2QN-PER_DuD2QN_NaivePER_1000_freq_100_324267_04165910']"
   ]
  },
  {
   "cell_type": "code",
   "execution_count": 11,
   "metadata": {},
   "outputs": [],
   "source": [
    "# make dictionary for experiment list\n",
    "exp_dict = {}\n",
    "for exp in exp_list:\n",
    "    experiment = exp.split('_')[0]\n",
    "    exp_dict[experiment] = exp"
   ]
  },
  {
   "cell_type": "code",
   "execution_count": 12,
   "metadata": {},
   "outputs": [],
   "source": [
    "# Rollout greedy policy for all experiments\n",
    "all_results = []\n",
    "for exp in exp_list:\n",
    "    all_results.append(greedy_play(log_name=exp, EPISODES = 5, render=False))"
   ]
  },
  {
   "cell_type": "code",
   "execution_count": 13,
   "metadata": {},
   "outputs": [
    {
     "data": {
      "image/png": "[encoded data removed]",
      "text/plain": [
       "<Figure size 1440x576 with 1 Axes>"
      ]
     },
     "metadata": {},
     "output_type": "display_data"
    }
   ],
   "source": [
    "# Plot the output of the rollouts\n",
    "fig = plt.figure(figsize=(20,8))\n",
    "for exp, results in all_results:\n",
    "    plt.plot(results, label=exp)\n",
    "plt.legend(ncol=4, loc =\"lower right\")\n",
    "plt.savefig('comparative_scores.png',\n",
    "            dpi=300, \n",
    "            format='png')"
   ]
  },
  {
   "cell_type": "code",
   "execution_count": 14,
   "metadata": {},
   "outputs": [],
   "source": [
    "# # Rollout one experiment\n",
    "# exp = exp_dict['DuD2QN']\n",
    "# greedy_play(exp, 5, render=True );"
   ]
  }
 ],
 "metadata": {
  "kernelspec": {
   "display_name": "Python 3",
   "language": "python",
   "name": "python3"
  },
  "language_info": {
   "codemirror_mode": {
    "name": "ipython",
    "version": 3
   },
   "file_extension": ".py",
   "mimetype": "text/x-python",
   "name": "python",
   "nbconvert_exporter": "python",
   "pygments_lexer": "ipython3",
   "version": "3.6.9"
  }
 },
 "nbformat": 4,
 "nbformat_minor": 4
}
