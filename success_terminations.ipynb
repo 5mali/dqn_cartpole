{
 "cells": [
  {
   "cell_type": "code",
   "execution_count": null,
   "metadata": {},
   "outputs": [],
   "source": [
    "import itertools\n",
    "import pickle\n",
    "import numpy as np\n",
    "np.set_printoptions(precision=3)"
   ]
  },
  {
   "cell_type": "code",
   "execution_count": 2,
   "metadata": {},
   "outputs": [],
   "source": [
    "from IPython.display import clear_output\n",
    "import matplotlib.patches as mpatches\n",
    "import matplotlib.pyplot as plt\n",
    "import seaborn as sns\n",
    "\n",
    "sns.set_style(\"whitegrid\")\n",
    "sns.set_context(\"notebook\", font_scale=1.5, rc={\"lines.linewidth\": 2.5})\n",
    "palette = sns.color_palette()"
   ]
  },
  {
   "cell_type": "code",
   "execution_count": 3,
   "metadata": {},
   "outputs": [],
   "source": [
    "import os\n",
    "import imageio\n",
    "import natsort"
   ]
  },
  {
   "cell_type": "code",
   "execution_count": 4,
   "metadata": {},
   "outputs": [],
   "source": [
    "# # import os\n",
    "# # os.listdir('./100K_run/')\n",
    "exp_list = ['D1QN_D1QN_Naive_1000_freq_100_324267_04171400',\n",
    "'D1QN-PER_D1QN_NaivePER_1000_freq_100_324267_04164957',\n",
    "'DQN_DQN_Naive_1000_freq_100_324267_04171233',\n",
    "'DQN-PER_DQN_NaivePER_1000_freq_100_324267_04164826',\n",
    "'DQN-PER-original_DQN_NaivePER_100000_freq_1000_324267_04163756',\n",
    "\n",
    "'D2QN_D2QN_Naive_1000_freq_100_324267_04170846',\n",
    "'D2QN-PER_D2QN_NaivePER_1000_freq_100_324267_04165444',\n",
    "\n",
    "'DuDQN_DuDQN_Naive_1000_freq_100_324267_04170649',\n",
    "'DuDQN-PER_DuDQN_NaivePER_1000_freq_100_324267_04165300',\n",
    "\n",
    "'DuD2QN_DuD2QN_Naive_1000_freq_100_324267_04170223',\n",
    "'DuD2QN-PER_DuD2QN_NaivePER_1000_freq_100_324267_04165910']"
   ]
  },
  {
   "cell_type": "code",
   "execution_count": 5,
   "metadata": {},
   "outputs": [],
   "source": [
    "exp_dict = {}\n",
    "for exp in exp_list:\n",
    "    experiment = exp.split('_')[0]\n",
    "    exp_dict[experiment] = exp"
   ]
  },
  {
   "cell_type": "code",
   "execution_count": 6,
   "metadata": {},
   "outputs": [],
   "source": [
    "cart_pos_threshold = 2.4\n",
    "theta_threshold = 12 * 2 * np.pi / 360 # ~ 0.21\n",
    "pole_ang_threshold = 1*theta_threshold"
   ]
  },
  {
   "cell_type": "code",
   "execution_count": null,
   "metadata": {},
   "outputs": [],
   "source": [
    "# Identify successful terminal states and plot the kde of the 2d state\n",
    "for exp in ['D1QN','D1QN-PER','DQN','DQN-PER','D2QN','D2QN-PER','DuDQN','DuDQN-PER','DuD2QN','DuD2QN-PER']:\n",
    "    log_name = exp_dict[exp]\n",
    "\n",
    "    MEM_FILE = './memories/' + log_name + '.mpk'\n",
    "\n",
    "    # Load Memories\n",
    "    with open(MEM_FILE, 'rb') as fpr:\n",
    "        memories = np.array(list(pickle.load(fpr)))\n",
    "\n",
    "    visited_states = np.stack(memories[:,0]).squeeze()\n",
    "    actions = memories[:,1].astype(np.float32)\n",
    "    rewards = memories[:,2].astype(np.float32)\n",
    "    next_states = np.stack(memories[:,3]).squeeze()\n",
    "    done = memories[:,4].astype(np.bool)\n",
    "\n",
    "    terminal_mem = memories[memories[:,4]==True]\n",
    "    terminal_states = np.stack(terminal_mem[:,0]).squeeze()\n",
    "\n",
    "    success_states = terminal_states[np.abs(terminal_states[:,0]) < cart_pos_threshold*0.8]\n",
    "    success_states = success_states[np.abs(success_states[:,2]) < pole_ang_threshold*0.8] \n",
    "\n",
    "    success_termination_pos = success_states[:,0]\n",
    "    success_termination_ang = success_states[:,2]\n",
    "\n",
    "    import pandas as pd\n",
    "    # Combine data into DataFrame\n",
    "    df = pd.DataFrame({'Cart Position': success_termination_pos, \n",
    "                       'Pole Angle': success_termination_ang\n",
    "                      })\n",
    "\n",
    "    # Define colormap and create corresponding color palette\n",
    "    cmap = sns.diverging_palette(20, 220, as_cmap=True)\n",
    "\n",
    "    # Plot data onto seaborn JointGrid\n",
    "    g = sns.JointGrid('Cart Position', 'Pole Angle',\n",
    "                      data=df, \n",
    "                      ratio=8,\n",
    "                      xlim=[-cart_pos_threshold, cart_pos_threshold],\n",
    "                      ylim=[-pole_ang_threshold, pole_ang_threshold])\n",
    "    g = g.plot_joint(sns.kdeplot,\n",
    "                     color=palette[3],\n",
    "                     shade=False,\n",
    "                     alpha = 0.3\n",
    "                    )\n",
    "    g = g.plot_joint(plt.scatter,\n",
    "                     s = 10,\n",
    "                     alpha = 0.7,\n",
    "                     color=palette[3])\n",
    "    sns.kdeplot(df['Cart Position'], ax=g.ax_marg_x, vertical=False, color=palette[4], shade=True, legend=False)\n",
    "    sns.kdeplot(df['Pole Angle'], ax=g.ax_marg_y, vertical=True, color=palette[5], shade=True, legend = False)\n",
    "    \n",
    "    fig = g.fig\n",
    "    fig.subplots_adjust(top=0.93)\n",
    "    fig.suptitle(exp, fontsize=16, fontweight='bold')\n",
    "\n",
    "\n",
    "    FIG_NAME = (\"success_\"+ exp + \".png\")\n",
    "#     fig.savefig(FIG_NAME,\n",
    "              dpi=300,\n",
    "              format='png')\n",
    "    fig.close()"
   ]
  },
  {
   "cell_type": "code",
   "execution_count": 84,
   "metadata": {},
   "outputs": [],
   "source": [
    "# Make composite image by stacking all the previously generated images\n",
    "from PIL import Image\n",
    "fig_list = []\n",
    "for exp in ['D1QN','D1QN-PER','DQN','DQN-PER','D2QN','D2QN-PER','DuDQN','DuDQN-PER','DuD2QN','DuD2QN-PER']:\n",
    "    FIG_NAME = (\"success_\"+ exp + \".png\")\n",
    "    fig_list.append(Image.open(FIG_NAME).convert(\"RGBA\"))\n",
    "\n",
    "for fig in fig_list:\n",
    "    fig.putalpha(int(np.floor(125)))\n",
    "\n",
    "\n",
    "for i in range(1,len(fig_list)):\n",
    "    fig_list[0].alpha_composite(fig_list[i])\n",
    "\n",
    "# fig_list[0].save('composite_success.png',format='png')"
   ]
  },
  {
   "cell_type": "code",
   "execution_count": 83,
   "metadata": {},
   "outputs": [],
   "source": []
  },
  {
   "cell_type": "code",
   "execution_count": null,
   "metadata": {},
   "outputs": [],
   "source": []
  }
 ],
 "metadata": {
  "kernelspec": {
   "display_name": "Python 3",
   "language": "python",
   "name": "python3"
  },
  "language_info": {
   "codemirror_mode": {
    "name": "ipython",
    "version": 3
   },
   "file_extension": ".py",
   "mimetype": "text/x-python",
   "name": "python",
   "nbconvert_exporter": "python",
   "pygments_lexer": "ipython3",
   "version": "3.6.9"
  }
 },
 "nbformat": 4,
 "nbformat_minor": 4
}
